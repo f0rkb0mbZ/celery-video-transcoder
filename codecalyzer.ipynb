{
 "cells": [
  {
   "cell_type": "code",
   "id": "d5b3b7a4-7635-4897-987a-d3efcc3cc870",
   "metadata": {
    "ExecuteTime": {
     "end_time": "2024-09-30T14:55:51.408119Z",
     "start_time": "2024-09-30T14:55:51.405446Z"
    }
   },
   "source": [
    "import ffmpeg"
   ],
   "outputs": [],
   "execution_count": 2
  },
  {
   "cell_type": "code",
   "execution_count": 2,
   "id": "96349412-81a3-4dce-a0d9-1f30fa2e0b78",
   "metadata": {},
   "outputs": [
    {
     "data": {
      "text/plain": [
       "(None, None)"
      ]
     },
     "execution_count": 2,
     "metadata": {},
     "output_type": "execute_result"
    }
   ],
   "source": [
    "ffmpeg.input('soif_app_desc.mp4').hflip().output('out.mp4').run()"
   ]
  },
  {
   "cell_type": "code",
   "id": "adbc1cd8-1158-46ed-8af2-7fde77bf2c63",
   "metadata": {
    "ExecuteTime": {
     "end_time": "2024-09-30T14:55:57.891478Z",
     "start_time": "2024-09-30T14:55:57.759030Z"
    }
   },
   "source": [
    "probe = ffmpeg.probe('forcasting.mp4')"
   ],
   "outputs": [],
   "execution_count": 3
  },
  {
   "metadata": {
    "ExecuteTime": {
     "end_time": "2024-09-30T14:56:49.920884Z",
     "start_time": "2024-09-30T14:56:49.915467Z"
    }
   },
   "cell_type": "code",
   "source": "probe",
   "id": "dd8502a1616186cc",
   "outputs": [
    {
     "data": {
      "text/plain": [
       "{'streams': [{'index': 0,\n",
       "   'codec_name': 'h264',\n",
       "   'codec_long_name': 'H.264 / AVC / MPEG-4 AVC / MPEG-4 part 10',\n",
       "   'profile': 'High',\n",
       "   'codec_type': 'video',\n",
       "   'codec_tag_string': 'avc1',\n",
       "   'codec_tag': '0x31637661',\n",
       "   'width': 1920,\n",
       "   'height': 1080,\n",
       "   'coded_width': 1920,\n",
       "   'coded_height': 1080,\n",
       "   'closed_captions': 0,\n",
       "   'film_grain': 0,\n",
       "   'has_b_frames': 0,\n",
       "   'sample_aspect_ratio': '1:1',\n",
       "   'display_aspect_ratio': '16:9',\n",
       "   'pix_fmt': 'yuv420p',\n",
       "   'level': 42,\n",
       "   'chroma_location': 'left',\n",
       "   'field_order': 'progressive',\n",
       "   'refs': 1,\n",
       "   'is_avc': 'true',\n",
       "   'nal_length_size': '4',\n",
       "   'id': '0x1',\n",
       "   'r_frame_rate': '25/1',\n",
       "   'avg_frame_rate': '25/1',\n",
       "   'time_base': '1/25000',\n",
       "   'start_pts': 0,\n",
       "   'start_time': '0.000000',\n",
       "   'duration_ts': 30899000,\n",
       "   'duration': '1235.960000',\n",
       "   'bit_rate': '20976545',\n",
       "   'bits_per_raw_sample': '8',\n",
       "   'nb_frames': '30899',\n",
       "   'extradata_size': 41,\n",
       "   'disposition': {'default': 1,\n",
       "    'dub': 0,\n",
       "    'original': 0,\n",
       "    'comment': 0,\n",
       "    'lyrics': 0,\n",
       "    'karaoke': 0,\n",
       "    'forced': 0,\n",
       "    'hearing_impaired': 0,\n",
       "    'visual_impaired': 0,\n",
       "    'clean_effects': 0,\n",
       "    'attached_pic': 0,\n",
       "    'timed_thumbnails': 0,\n",
       "    'non_diegetic': 0,\n",
       "    'captions': 0,\n",
       "    'descriptions': 0,\n",
       "    'metadata': 0,\n",
       "    'dependent': 0,\n",
       "    'still_image': 0},\n",
       "   'tags': {'creation_time': '2022-11-07T17:06:40.000000Z',\n",
       "    'language': 'eng',\n",
       "    'handler_name': '\\x1fMainconcept Video Media Handler',\n",
       "    'vendor_id': '[0][0][0][0]',\n",
       "    'encoder': 'AVC Coding'}},\n",
       "  {'index': 1,\n",
       "   'codec_name': 'aac',\n",
       "   'codec_long_name': 'AAC (Advanced Audio Coding)',\n",
       "   'profile': 'LC',\n",
       "   'codec_type': 'audio',\n",
       "   'codec_tag_string': 'mp4a',\n",
       "   'codec_tag': '0x6134706d',\n",
       "   'sample_fmt': 'fltp',\n",
       "   'sample_rate': '48000',\n",
       "   'channels': 2,\n",
       "   'channel_layout': 'stereo',\n",
       "   'bits_per_sample': 0,\n",
       "   'initial_padding': 0,\n",
       "   'id': '0x2',\n",
       "   'r_frame_rate': '0/0',\n",
       "   'avg_frame_rate': '0/0',\n",
       "   'time_base': '1/48000',\n",
       "   'start_pts': 0,\n",
       "   'start_time': '0.000000',\n",
       "   'duration_ts': 59326080,\n",
       "   'duration': '1235.960000',\n",
       "   'bit_rate': '317370',\n",
       "   'nb_frames': '57937',\n",
       "   'extradata_size': 2,\n",
       "   'disposition': {'default': 1,\n",
       "    'dub': 0,\n",
       "    'original': 0,\n",
       "    'comment': 0,\n",
       "    'lyrics': 0,\n",
       "    'karaoke': 0,\n",
       "    'forced': 0,\n",
       "    'hearing_impaired': 0,\n",
       "    'visual_impaired': 0,\n",
       "    'clean_effects': 0,\n",
       "    'attached_pic': 0,\n",
       "    'timed_thumbnails': 0,\n",
       "    'non_diegetic': 0,\n",
       "    'captions': 0,\n",
       "    'descriptions': 0,\n",
       "    'metadata': 0,\n",
       "    'dependent': 0,\n",
       "    'still_image': 0},\n",
       "   'tags': {'creation_time': '2022-11-07T17:06:40.000000Z',\n",
       "    'language': 'eng',\n",
       "    'handler_name': '#Mainconcept MP4 Sound Media Handler',\n",
       "    'vendor_id': '[0][0][0][0]'}}],\n",
       " 'format': {'filename': 'forcasting.mp4',\n",
       "  'nb_streams': 2,\n",
       "  'nb_programs': 0,\n",
       "  'format_name': 'mov,mp4,m4a,3gp,3g2,mj2',\n",
       "  'format_long_name': 'QuickTime / MOV',\n",
       "  'start_time': '0.000000',\n",
       "  'duration': '1235.960000',\n",
       "  'size': '3290249945',\n",
       "  'bit_rate': '21296805',\n",
       "  'probe_score': 100,\n",
       "  'tags': {'major_brand': 'mp42',\n",
       "   'minor_version': '0',\n",
       "   'compatible_brands': 'mp42mp41',\n",
       "   'creation_time': '2022-11-07T17:06:40.000000Z'}}}"
      ]
     },
     "execution_count": 6,
     "metadata": {},
     "output_type": "execute_result"
    }
   ],
   "execution_count": 6
  },
  {
   "cell_type": "code",
   "id": "ca799f0b-14a9-4b62-885a-babdc96478d9",
   "metadata": {
    "ExecuteTime": {
     "end_time": "2024-09-30T14:56:09.624991Z",
     "start_time": "2024-09-30T14:56:09.621317Z"
    }
   },
   "source": [
    "video_streams = list()\n",
    "audio_streams = list()\n",
    "for stream in probe.get('streams'):\n",
    "    if stream.get('codec_type') == 'video':\n",
    "        video_streams.append(stream)\n",
    "    if stream.get('codec_type') == 'audio':\n",
    "        audio_streams.append(stream)"
   ],
   "outputs": [],
   "execution_count": 4
  },
  {
   "metadata": {
    "ExecuteTime": {
     "end_time": "2024-09-30T14:56:22.053985Z",
     "start_time": "2024-09-30T14:56:22.048633Z"
    }
   },
   "cell_type": "code",
   "source": "audio_streams",
   "id": "490748c4c5c44b61",
   "outputs": [
    {
     "data": {
      "text/plain": [
       "[{'index': 1,\n",
       "  'codec_name': 'aac',\n",
       "  'codec_long_name': 'AAC (Advanced Audio Coding)',\n",
       "  'profile': 'LC',\n",
       "  'codec_type': 'audio',\n",
       "  'codec_tag_string': 'mp4a',\n",
       "  'codec_tag': '0x6134706d',\n",
       "  'sample_fmt': 'fltp',\n",
       "  'sample_rate': '48000',\n",
       "  'channels': 2,\n",
       "  'channel_layout': 'stereo',\n",
       "  'bits_per_sample': 0,\n",
       "  'initial_padding': 0,\n",
       "  'id': '0x2',\n",
       "  'r_frame_rate': '0/0',\n",
       "  'avg_frame_rate': '0/0',\n",
       "  'time_base': '1/48000',\n",
       "  'start_pts': 0,\n",
       "  'start_time': '0.000000',\n",
       "  'duration_ts': 59326080,\n",
       "  'duration': '1235.960000',\n",
       "  'bit_rate': '317370',\n",
       "  'nb_frames': '57937',\n",
       "  'extradata_size': 2,\n",
       "  'disposition': {'default': 1,\n",
       "   'dub': 0,\n",
       "   'original': 0,\n",
       "   'comment': 0,\n",
       "   'lyrics': 0,\n",
       "   'karaoke': 0,\n",
       "   'forced': 0,\n",
       "   'hearing_impaired': 0,\n",
       "   'visual_impaired': 0,\n",
       "   'clean_effects': 0,\n",
       "   'attached_pic': 0,\n",
       "   'timed_thumbnails': 0,\n",
       "   'non_diegetic': 0,\n",
       "   'captions': 0,\n",
       "   'descriptions': 0,\n",
       "   'metadata': 0,\n",
       "   'dependent': 0,\n",
       "   'still_image': 0},\n",
       "  'tags': {'creation_time': '2022-11-07T17:06:40.000000Z',\n",
       "   'language': 'eng',\n",
       "   'handler_name': '#Mainconcept MP4 Sound Media Handler',\n",
       "   'vendor_id': '[0][0][0][0]'}}]"
      ]
     },
     "execution_count": 5,
     "metadata": {},
     "output_type": "execute_result"
    }
   ],
   "execution_count": 5
  },
  {
   "cell_type": "code",
   "execution_count": 7,
   "id": "60f51a29-979e-434e-8c10-ff7644204983",
   "metadata": {
    "scrolled": true
   },
   "outputs": [
    {
     "data": {
      "text/plain": [
       "(None, None)"
      ]
     },
     "execution_count": 7,
     "metadata": {},
     "output_type": "execute_result"
    }
   ],
   "source": [
    "ffmpeg.input('forcasting.mp4', hwaccel='cuda').output('forcasting_720p.mp4', vf='hwupload_cuda,scale_cuda=w=1280:h=720', vcodec='h264_nvenc').run()"
   ]
  },
  {
   "metadata": {
    "ExecuteTime": {
     "end_time": "2024-09-30T16:52:39.384169Z",
     "start_time": "2024-09-30T16:52:39.251919Z"
    }
   },
   "cell_type": "code",
   "source": "ffmpeg.input('rickroll.mp4').filter('scale', -1, 240).output('rickroll_240p.mp4').overwrite_output().run()",
   "id": "14079b7b04bbfb38",
   "outputs": [
    {
     "name": "stderr",
     "output_type": "stream",
     "text": [
      "ffmpeg version 6.1.1-3ubuntu5 Copyright (c) 2000-2023 the FFmpeg developers\n",
      "  built with gcc 13 (Ubuntu 13.2.0-23ubuntu3)\n",
      "  configuration: --prefix=/usr --extra-version=3ubuntu5 --toolchain=hardened --libdir=/usr/lib/x86_64-linux-gnu --incdir=/usr/include/x86_64-linux-gnu --arch=amd64 --enable-gpl --disable-stripping --disable-omx --enable-gnutls --enable-libaom --enable-libass --enable-libbs2b --enable-libcaca --enable-libcdio --enable-libcodec2 --enable-libdav1d --enable-libflite --enable-libfontconfig --enable-libfreetype --enable-libfribidi --enable-libglslang --enable-libgme --enable-libgsm --enable-libharfbuzz --enable-libmp3lame --enable-libmysofa --enable-libopenjpeg --enable-libopenmpt --enable-libopus --enable-librubberband --enable-libshine --enable-libsnappy --enable-libsoxr --enable-libspeex --enable-libtheora --enable-libtwolame --enable-libvidstab --enable-libvorbis --enable-libvpx --enable-libwebp --enable-libx265 --enable-libxml2 --enable-libxvid --enable-libzimg --enable-openal --enable-opencl --enable-opengl --disable-sndio --enable-libvpl --disable-libmfx --enable-libdc1394 --enable-libdrm --enable-libiec61883 --enable-chromaprint --enable-frei0r --enable-ladspa --enable-libbluray --enable-libjack --enable-libpulse --enable-librabbitmq --enable-librist --enable-libsrt --enable-libssh --enable-libsvtav1 --enable-libx264 --enable-libzmq --enable-libzvbi --enable-lv2 --enable-sdl2 --enable-libplacebo --enable-librav1e --enable-pocketsphinx --enable-librsvg --enable-libjxl --enable-shared\n",
      "  libavutil      58. 29.100 / 58. 29.100\n",
      "  libavcodec     60. 31.102 / 60. 31.102\n",
      "  libavformat    60. 16.100 / 60. 16.100\n",
      "  libavdevice    60.  3.100 / 60.  3.100\n",
      "  libavfilter     9. 12.100 /  9. 12.100\n",
      "  libswscale      7.  5.100 /  7.  5.100\n",
      "  libswresample   4. 12.100 /  4. 12.100\n",
      "  libpostproc    57.  3.100 / 57.  3.100\n",
      "[mov,mp4,m4a,3gp,3g2,mj2 @ 0x55ce33a18a80] st: 1 edit list: 1 Missing key frame while searching for timestamp: 0\n",
      "[mov,mp4,m4a,3gp,3g2,mj2 @ 0x55ce33a18a80] st: 1 edit list 1 Cannot find an index entry before timestamp: 0.\n",
      "Input #0, mov,mp4,m4a,3gp,3g2,mj2, from 'rickroll.mp4':\n",
      "  Metadata:\n",
      "    major_brand     : isom\n",
      "    minor_version   : 1\n",
      "    compatible_brands: isomiso2avc1mp41\n",
      "    creation_time   : 2024-05-30T06:43:43.000000Z\n",
      "  Duration: 00:03:32.09, start: 0.000000, bitrate: 3152 kb/s\n",
      "  Stream #0:0[0x1](und): Video: h264 (High) (avc1 / 0x31637661), yuv420p(tv, bt709, progressive), 1920x1080 [SAR 1:1 DAR 16:9], 3022 kb/s, 25 fps, 25 tbr, 12800 tbn (default)\n",
      "    Metadata:\n",
      "      creation_time   : 2024-05-30T06:43:43.000000Z\n",
      "      handler_name    : ISO Media file produced by Google Inc.\n",
      "      vendor_id       : [0][0][0][0]\n",
      "  Stream #0:1[0x2](eng): Audio: aac (LC) (mp4a / 0x6134706D), 44100 Hz, stereo, fltp, 128 kb/s (default)\n",
      "    Metadata:\n",
      "      creation_time   : 2024-05-30T05:43:29.000000Z\n",
      "      handler_name    : ISO Media file produced by Google Inc.\n",
      "      vendor_id       : [0][0][0][0]\n",
      "Stream mapping:\n",
      "  Stream #0:0 (h264) -> scale:default\n",
      "  scale:default -> Stream #0:0 (libx264)\n",
      "Press [q] to stop, [?] for help\n",
      "[libx264 @ 0x55ce3466ee80] width not divisible by 2 (427x240)\n",
      "[vost#0:0/libx264 @ 0x55ce3466eac0] Error while opening encoder - maybe incorrect parameters such as bit_rate, rate, width or height.\n",
      "Error while filtering: Generic error in an external library\n",
      "[out#0/mp4 @ 0x55ce3466dd40] Nothing was written into output file, because at least one of its streams received no packets.\n",
      "frame=    0 fps=0.0 q=0.0 Lsize=       0kB time=N/A bitrate=N/A speed=N/A    \n",
      "Conversion failed!\n"
     ]
    },
    {
     "ename": "Error",
     "evalue": "ffmpeg error (see stderr output for detail)",
     "output_type": "error",
     "traceback": [
      "\u001B[0;31m---------------------------------------------------------------------------\u001B[0m",
      "\u001B[0;31mError\u001B[0m                                     Traceback (most recent call last)",
      "Cell \u001B[0;32mIn[7], line 1\u001B[0m\n\u001B[0;32m----> 1\u001B[0m \u001B[43mffmpeg\u001B[49m\u001B[38;5;241;43m.\u001B[39;49m\u001B[43minput\u001B[49m\u001B[43m(\u001B[49m\u001B[38;5;124;43m'\u001B[39;49m\u001B[38;5;124;43mrickroll.mp4\u001B[39;49m\u001B[38;5;124;43m'\u001B[39;49m\u001B[43m)\u001B[49m\u001B[38;5;241;43m.\u001B[39;49m\u001B[43mfilter\u001B[49m\u001B[43m(\u001B[49m\u001B[38;5;124;43m'\u001B[39;49m\u001B[38;5;124;43mscale\u001B[39;49m\u001B[38;5;124;43m'\u001B[39;49m\u001B[43m,\u001B[49m\u001B[43m \u001B[49m\u001B[38;5;241;43m-\u001B[39;49m\u001B[38;5;241;43m1\u001B[39;49m\u001B[43m,\u001B[49m\u001B[43m \u001B[49m\u001B[38;5;241;43m240\u001B[39;49m\u001B[43m)\u001B[49m\u001B[38;5;241;43m.\u001B[39;49m\u001B[43moutput\u001B[49m\u001B[43m(\u001B[49m\u001B[38;5;124;43m'\u001B[39;49m\u001B[38;5;124;43mrickroll_240p.mp4\u001B[39;49m\u001B[38;5;124;43m'\u001B[39;49m\u001B[43m)\u001B[49m\u001B[38;5;241;43m.\u001B[39;49m\u001B[43moverwrite_output\u001B[49m\u001B[43m(\u001B[49m\u001B[43m)\u001B[49m\u001B[38;5;241;43m.\u001B[39;49m\u001B[43mrun\u001B[49m\u001B[43m(\u001B[49m\u001B[43m)\u001B[49m\n",
      "File \u001B[0;32m~/miniconda3/envs/celery-video/lib/python3.11/site-packages/ffmpeg/_run.py:325\u001B[0m, in \u001B[0;36mrun\u001B[0;34m(stream_spec, cmd, capture_stdout, capture_stderr, input, quiet, overwrite_output)\u001B[0m\n\u001B[1;32m    323\u001B[0m retcode \u001B[38;5;241m=\u001B[39m process\u001B[38;5;241m.\u001B[39mpoll()\n\u001B[1;32m    324\u001B[0m \u001B[38;5;28;01mif\u001B[39;00m retcode:\n\u001B[0;32m--> 325\u001B[0m     \u001B[38;5;28;01mraise\u001B[39;00m Error(\u001B[38;5;124m'\u001B[39m\u001B[38;5;124mffmpeg\u001B[39m\u001B[38;5;124m'\u001B[39m, out, err)\n\u001B[1;32m    326\u001B[0m \u001B[38;5;28;01mreturn\u001B[39;00m out, err\n",
      "\u001B[0;31mError\u001B[0m: ffmpeg error (see stderr output for detail)"
     ]
    }
   ],
   "execution_count": 7
  }
 ],
 "metadata": {
  "kernelspec": {
   "display_name": "Python 3 (ipykernel)",
   "language": "python",
   "name": "python3"
  },
  "language_info": {
   "codemirror_mode": {
    "name": "ipython",
    "version": 3
   },
   "file_extension": ".py",
   "mimetype": "text/x-python",
   "name": "python",
   "nbconvert_exporter": "python",
   "pygments_lexer": "ipython3",
   "version": "3.11.9"
  }
 },
 "nbformat": 4,
 "nbformat_minor": 5
}
