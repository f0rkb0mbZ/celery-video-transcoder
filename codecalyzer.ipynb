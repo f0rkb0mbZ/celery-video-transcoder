{
 "cells": [
  {
   "cell_type": "code",
   "id": "d5b3b7a4-7635-4897-987a-d3efcc3cc870",
   "metadata": {
    "ExecuteTime": {
     "end_time": "2024-09-30T14:55:51.408119Z",
     "start_time": "2024-09-30T14:55:51.405446Z"
    }
   },
   "source": [
    "import ffmpeg"
   ],
   "outputs": [],
   "execution_count": 2
  },
  {
   "cell_type": "code",
   "execution_count": 2,
   "id": "96349412-81a3-4dce-a0d9-1f30fa2e0b78",
   "metadata": {},
   "outputs": [
    {
     "data": {
      "text/plain": [
       "(None, None)"
      ]
     },
     "execution_count": 2,
     "metadata": {},
     "output_type": "execute_result"
    }
   ],
   "source": [
    "ffmpeg.input('soif_app_desc.mp4').hflip().output('out.mp4').run()"
   ]
  },
  {
   "cell_type": "code",
   "id": "adbc1cd8-1158-46ed-8af2-7fde77bf2c63",
   "metadata": {
    "ExecuteTime": {
     "end_time": "2024-09-30T14:55:57.891478Z",
     "start_time": "2024-09-30T14:55:57.759030Z"
    }
   },
   "source": [
    "probe = ffmpeg.probe('forcasting.mp4')"
   ],
   "outputs": [],
   "execution_count": 3
  },
  {
   "metadata": {
    "ExecuteTime": {
     "end_time": "2024-09-30T14:56:49.920884Z",
     "start_time": "2024-09-30T14:56:49.915467Z"
    }
   },
   "cell_type": "code",
   "source": "probe",
   "id": "dd8502a1616186cc",
   "outputs": [
    {
     "data": {
      "text/plain": [
       "{'streams': [{'index': 0,\n",
       "   'codec_name': 'h264',\n",
       "   'codec_long_name': 'H.264 / AVC / MPEG-4 AVC / MPEG-4 part 10',\n",
       "   'profile': 'High',\n",
       "   'codec_type': 'video',\n",
       "   'codec_tag_string': 'avc1',\n",
       "   'codec_tag': '0x31637661',\n",
       "   'width': 1920,\n",
       "   'height': 1080,\n",
       "   'coded_width': 1920,\n",
       "   'coded_height': 1080,\n",
       "   'closed_captions': 0,\n",
       "   'film_grain': 0,\n",
       "   'has_b_frames': 0,\n",
       "   'sample_aspect_ratio': '1:1',\n",
       "   'display_aspect_ratio': '16:9',\n",
       "   'pix_fmt': 'yuv420p',\n",
       "   'level': 42,\n",
       "   'chroma_location': 'left',\n",
       "   'field_order': 'progressive',\n",
       "   'refs': 1,\n",
       "   'is_avc': 'true',\n",
       "   'nal_length_size': '4',\n",
       "   'id': '0x1',\n",
       "   'r_frame_rate': '25/1',\n",
       "   'avg_frame_rate': '25/1',\n",
       "   'time_base': '1/25000',\n",
       "   'start_pts': 0,\n",
       "   'start_time': '0.000000',\n",
       "   'duration_ts': 30899000,\n",
       "   'duration': '1235.960000',\n",
       "   'bit_rate': '20976545',\n",
       "   'bits_per_raw_sample': '8',\n",
       "   'nb_frames': '30899',\n",
       "   'extradata_size': 41,\n",
       "   'disposition': {'default': 1,\n",
       "    'dub': 0,\n",
       "    'original': 0,\n",
       "    'comment': 0,\n",
       "    'lyrics': 0,\n",
       "    'karaoke': 0,\n",
       "    'forced': 0,\n",
       "    'hearing_impaired': 0,\n",
       "    'visual_impaired': 0,\n",
       "    'clean_effects': 0,\n",
       "    'attached_pic': 0,\n",
       "    'timed_thumbnails': 0,\n",
       "    'non_diegetic': 0,\n",
       "    'captions': 0,\n",
       "    'descriptions': 0,\n",
       "    'metadata': 0,\n",
       "    'dependent': 0,\n",
       "    'still_image': 0},\n",
       "   'tags': {'creation_time': '2022-11-07T17:06:40.000000Z',\n",
       "    'language': 'eng',\n",
       "    'handler_name': '\\x1fMainconcept Video Media Handler',\n",
       "    'vendor_id': '[0][0][0][0]',\n",
       "    'encoder': 'AVC Coding'}},\n",
       "  {'index': 1,\n",
       "   'codec_name': 'aac',\n",
       "   'codec_long_name': 'AAC (Advanced Audio Coding)',\n",
       "   'profile': 'LC',\n",
       "   'codec_type': 'audio',\n",
       "   'codec_tag_string': 'mp4a',\n",
       "   'codec_tag': '0x6134706d',\n",
       "   'sample_fmt': 'fltp',\n",
       "   'sample_rate': '48000',\n",
       "   'channels': 2,\n",
       "   'channel_layout': 'stereo',\n",
       "   'bits_per_sample': 0,\n",
       "   'initial_padding': 0,\n",
       "   'id': '0x2',\n",
       "   'r_frame_rate': '0/0',\n",
       "   'avg_frame_rate': '0/0',\n",
       "   'time_base': '1/48000',\n",
       "   'start_pts': 0,\n",
       "   'start_time': '0.000000',\n",
       "   'duration_ts': 59326080,\n",
       "   'duration': '1235.960000',\n",
       "   'bit_rate': '317370',\n",
       "   'nb_frames': '57937',\n",
       "   'extradata_size': 2,\n",
       "   'disposition': {'default': 1,\n",
       "    'dub': 0,\n",
       "    'original': 0,\n",
       "    'comment': 0,\n",
       "    'lyrics': 0,\n",
       "    'karaoke': 0,\n",
       "    'forced': 0,\n",
       "    'hearing_impaired': 0,\n",
       "    'visual_impaired': 0,\n",
       "    'clean_effects': 0,\n",
       "    'attached_pic': 0,\n",
       "    'timed_thumbnails': 0,\n",
       "    'non_diegetic': 0,\n",
       "    'captions': 0,\n",
       "    'descriptions': 0,\n",
       "    'metadata': 0,\n",
       "    'dependent': 0,\n",
       "    'still_image': 0},\n",
       "   'tags': {'creation_time': '2022-11-07T17:06:40.000000Z',\n",
       "    'language': 'eng',\n",
       "    'handler_name': '#Mainconcept MP4 Sound Media Handler',\n",
       "    'vendor_id': '[0][0][0][0]'}}],\n",
       " 'format': {'filename': 'forcasting.mp4',\n",
       "  'nb_streams': 2,\n",
       "  'nb_programs': 0,\n",
       "  'format_name': 'mov,mp4,m4a,3gp,3g2,mj2',\n",
       "  'format_long_name': 'QuickTime / MOV',\n",
       "  'start_time': '0.000000',\n",
       "  'duration': '1235.960000',\n",
       "  'size': '3290249945',\n",
       "  'bit_rate': '21296805',\n",
       "  'probe_score': 100,\n",
       "  'tags': {'major_brand': 'mp42',\n",
       "   'minor_version': '0',\n",
       "   'compatible_brands': 'mp42mp41',\n",
       "   'creation_time': '2022-11-07T17:06:40.000000Z'}}}"
      ]
     },
     "execution_count": 6,
     "metadata": {},
     "output_type": "execute_result"
    }
   ],
   "execution_count": 6
  },
  {
   "cell_type": "code",
   "id": "ca799f0b-14a9-4b62-885a-babdc96478d9",
   "metadata": {
    "ExecuteTime": {
     "end_time": "2024-09-30T14:56:09.624991Z",
     "start_time": "2024-09-30T14:56:09.621317Z"
    }
   },
   "source": [
    "video_streams = list()\n",
    "audio_streams = list()\n",
    "for stream in probe.get('streams'):\n",
    "    if stream.get('codec_type') == 'video':\n",
    "        video_streams.append(stream)\n",
    "    if stream.get('codec_type') == 'audio':\n",
    "        audio_streams.append(stream)"
   ],
   "outputs": [],
   "execution_count": 4
  },
  {
   "metadata": {
    "ExecuteTime": {
     "end_time": "2024-09-30T14:56:22.053985Z",
     "start_time": "2024-09-30T14:56:22.048633Z"
    }
   },
   "cell_type": "code",
   "source": "audio_streams",
   "id": "490748c4c5c44b61",
   "outputs": [
    {
     "data": {
      "text/plain": [
       "[{'index': 1,\n",
       "  'codec_name': 'aac',\n",
       "  'codec_long_name': 'AAC (Advanced Audio Coding)',\n",
       "  'profile': 'LC',\n",
       "  'codec_type': 'audio',\n",
       "  'codec_tag_string': 'mp4a',\n",
       "  'codec_tag': '0x6134706d',\n",
       "  'sample_fmt': 'fltp',\n",
       "  'sample_rate': '48000',\n",
       "  'channels': 2,\n",
       "  'channel_layout': 'stereo',\n",
       "  'bits_per_sample': 0,\n",
       "  'initial_padding': 0,\n",
       "  'id': '0x2',\n",
       "  'r_frame_rate': '0/0',\n",
       "  'avg_frame_rate': '0/0',\n",
       "  'time_base': '1/48000',\n",
       "  'start_pts': 0,\n",
       "  'start_time': '0.000000',\n",
       "  'duration_ts': 59326080,\n",
       "  'duration': '1235.960000',\n",
       "  'bit_rate': '317370',\n",
       "  'nb_frames': '57937',\n",
       "  'extradata_size': 2,\n",
       "  'disposition': {'default': 1,\n",
       "   'dub': 0,\n",
       "   'original': 0,\n",
       "   'comment': 0,\n",
       "   'lyrics': 0,\n",
       "   'karaoke': 0,\n",
       "   'forced': 0,\n",
       "   'hearing_impaired': 0,\n",
       "   'visual_impaired': 0,\n",
       "   'clean_effects': 0,\n",
       "   'attached_pic': 0,\n",
       "   'timed_thumbnails': 0,\n",
       "   'non_diegetic': 0,\n",
       "   'captions': 0,\n",
       "   'descriptions': 0,\n",
       "   'metadata': 0,\n",
       "   'dependent': 0,\n",
       "   'still_image': 0},\n",
       "  'tags': {'creation_time': '2022-11-07T17:06:40.000000Z',\n",
       "   'language': 'eng',\n",
       "   'handler_name': '#Mainconcept MP4 Sound Media Handler',\n",
       "   'vendor_id': '[0][0][0][0]'}}]"
      ]
     },
     "execution_count": 5,
     "metadata": {},
     "output_type": "execute_result"
    }
   ],
   "execution_count": 5
  },
  {
   "cell_type": "code",
   "execution_count": 7,
   "id": "60f51a29-979e-434e-8c10-ff7644204983",
   "metadata": {
    "scrolled": true
   },
   "outputs": [
    {
     "data": {
      "text/plain": [
       "(None, None)"
      ]
     },
     "execution_count": 7,
     "metadata": {},
     "output_type": "execute_result"
    }
   ],
   "source": [
    "ffmpeg.input('forcasting.mp4', hwaccel='cuda').output('forcasting_720p.mp4', vf='hwupload_cuda,scale_cuda=w=1280:h=720', vcodec='h264_nvenc').run()"
   ]
  }
 ],
 "metadata": {
  "kernelspec": {
   "display_name": "Python 3 (ipykernel)",
   "language": "python",
   "name": "python3"
  },
  "language_info": {
   "codemirror_mode": {
    "name": "ipython",
    "version": 3
   },
   "file_extension": ".py",
   "mimetype": "text/x-python",
   "name": "python",
   "nbconvert_exporter": "python",
   "pygments_lexer": "ipython3",
   "version": "3.11.9"
  }
 },
 "nbformat": 4,
 "nbformat_minor": 5
}
